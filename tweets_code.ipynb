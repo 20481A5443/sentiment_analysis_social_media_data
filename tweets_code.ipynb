{
 "cells": [
  {
   "cell_type": "code",
   "execution_count": 37,
   "id": "df540aed",
   "metadata": {},
   "outputs": [],
   "source": [
    "import re\n",
    "import pandas as pd\n",
    "import nltk\n",
    "import random\n",
    "from nltk.tokenize import TweetTokenizer\n",
    "from sklearn.feature_extraction.text import TfidfVectorizer\n",
    "from sklearn.model_selection import train_test_split\n",
    "from sklearn.naive_bayes import MultinomialNB\n",
    "from sklearn.metrics import accuracy_score, classification_report"
   ]
  },
  {
   "cell_type": "code",
   "execution_count": 38,
   "id": "a90bc017",
   "metadata": {},
   "outputs": [],
   "source": [
    "# Function to preprocess text, including handling emojis\n",
    "def preprocess_text(text):\n",
    "    # Convert text to lowercase\n",
    "    text = text.lower()\n",
    "    # Remove special characters, numbers, and URLs\n",
    "    text = re.sub(r'http\\S+', '', text)\n",
    "    text = re.sub(r'[^a-zA-Z0-9\\s\\U0001F300-\\U0001F5FF\\U0001F600-\\U0001F64F\\U0001F680-\\U0001F6FF]', '', text)\n",
    "    # Tokenize text using TweetTokenizer\n",
    "    tokenizer = TweetTokenizer()\n",
    "    words = tokenizer.tokenize(text)\n",
    "    # Remove stopwords\n",
    "    stop_words = set(nltk.corpus.stopwords.words('english'))\n",
    "    words = [word for word in words if word not in stop_words]\n",
    "    # Lemmatize words\n",
    "    lemmatizer = nltk.stem.WordNetLemmatizer()\n",
    "    words = [lemmatizer.lemmatize(word) for word in words]\n",
    "    return ' '.join(words)"
   ]
  },
  {
   "cell_type": "code",
   "execution_count": 39,
   "id": "dcb5f4c5",
   "metadata": {},
   "outputs": [],
   "source": [
    "# Read the Twitter tweet dataset from the CSV file\n",
    "df = pd.read_csv('merged_file.csv')"
   ]
  },
  {
   "cell_type": "code",
   "execution_count": 40,
   "id": "da544924",
   "metadata": {},
   "outputs": [
    {
     "name": "stdout",
     "output_type": "stream",
     "text": [
      "Accuracy: 0.7034596375617792\n"
     ]
    }
   ],
   "source": [
    "# Shuffle the dataset for randomization\n",
    "df = df.sample(frac=1, random_state=42).reset_index(drop=True)\n",
    "\n",
    "# Preprocess the data\n",
    "df['text'] = df['text'].apply(preprocess_text)\n",
    "\n",
    "# Split data into training and testing sets\n",
    "X_train, X_test, y_train, y_test = train_test_split(df['text'], df['sentiment'], test_size=0.2, random_state=42)\n",
    "\n",
    "# Convert text data to TF-IDF vectors\n",
    "tfidf_vectorizer = TfidfVectorizer(max_features=1000)\n",
    "X_train_tfidf = tfidf_vectorizer.fit_transform(X_train)\n",
    "X_test_tfidf = tfidf_vectorizer.transform(X_test)\n",
    "\n",
    "# Train a Multinomial Naive Bayes classifier\n",
    "classifier = MultinomialNB()\n",
    "classifier.fit(X_train_tfidf, y_train)\n",
    "\n",
    "# Make predictions on the test set\n",
    "y_pred = classifier.predict(X_test_tfidf)\n",
    "\n",
    "# Evaluate the model\n",
    "accuracy = accuracy_score(y_test, y_pred)\n",
    "print(\"Accuracy:\", accuracy)"
   ]
  },
  {
   "cell_type": "code",
   "execution_count": 41,
   "id": "9b941c1c",
   "metadata": {},
   "outputs": [
    {
     "name": "stdout",
     "output_type": "stream",
     "text": [
      "Classification Report:\n",
      "              precision    recall  f1-score   support\n",
      "\n",
      "    negative       1.00      0.02      0.04        50\n",
      "     neutral       0.67      0.89      0.77       315\n",
      "    positive       0.76      0.60      0.67       242\n",
      "\n",
      "    accuracy                           0.70       607\n",
      "   macro avg       0.81      0.50      0.49       607\n",
      "weighted avg       0.74      0.70      0.67       607\n",
      "\n"
     ]
    }
   ],
   "source": [
    "# Print classification report\n",
    "print(\"Classification Report:\")\n",
    "print(classification_report(y_test, y_pred))"
   ]
  },
  {
   "cell_type": "code",
   "execution_count": 51,
   "id": "4dbcef4a",
   "metadata": {},
   "outputs": [
    {
     "name": "stdout",
     "output_type": "stream",
     "text": [
      "Predicted sentiments for new tweets:\n",
      "- Tweet: This post was Great!\n",
      "  Sentiment: positive\n",
      "\n",
      "- Tweet: how are you doing?\n",
      "  Sentiment: neutral\n",
      "\n",
      "- Tweet: you are amazing\n",
      "  Sentiment: positive\n",
      "\n"
     ]
    }
   ],
   "source": [
    "# Test the model with new data\n",
    "new_tweets = [\"This post was Great!\",\"how are you doing?\",\"you are amazing\",]\n",
    "preprocessed_new_tweets = [preprocess_text(tweet) for tweet in new_tweets]\n",
    "tfidf_new_tweets = tfidf_vectorizer.transform(preprocessed_new_tweets)\n",
    "predicted_sentiments = classifier.predict(tfidf_new_tweets)\n",
    "\n",
    "print(\"Predicted sentiments for new tweets:\")\n",
    "for tweet, sentiment in zip(new_tweets, predicted_sentiments):\n",
    "    print(f\"- Tweet: {tweet}\")\n",
    "    print(f\"  Sentiment: {sentiment}\\n\")"
   ]
  },
  {
   "cell_type": "code",
   "execution_count": null,
   "id": "49c68f51",
   "metadata": {},
   "outputs": [],
   "source": []
  },
  {
   "cell_type": "code",
   "execution_count": null,
   "id": "5fbb179a",
   "metadata": {},
   "outputs": [],
   "source": []
  }
 ],
 "metadata": {
  "kernelspec": {
   "display_name": "Python 3 (ipykernel)",
   "language": "python",
   "name": "python3"
  },
  "language_info": {
   "codemirror_mode": {
    "name": "ipython",
    "version": 3
   },
   "file_extension": ".py",
   "mimetype": "text/x-python",
   "name": "python",
   "nbconvert_exporter": "python",
   "pygments_lexer": "ipython3",
   "version": "3.10.7"
  }
 },
 "nbformat": 4,
 "nbformat_minor": 5
}
